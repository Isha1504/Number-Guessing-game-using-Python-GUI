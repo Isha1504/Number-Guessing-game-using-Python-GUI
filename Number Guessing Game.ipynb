{
 "cells": [
  {
   "cell_type": "code",
   "execution_count": 1,
   "metadata": {},
   "outputs": [],
   "source": [
    "import random \n",
    "from tkinter import *\n",
    "from tkinter import ttk"
   ]
  },
  {
   "cell_type": "code",
   "execution_count": 2,
   "metadata": {},
   "outputs": [],
   "source": [
    "#WINDOW PROPERTIES\n",
    "window1=Tk()\n",
    "window1.geometry(\"600x300\")\n",
    "window1.configure(bg=\"light green\")\n",
    "\n",
    "#TITLE PROPERTIES\n",
    "data=Label(window1,text=\"Welcome to The Number Guessing Game!\",bg=\"light green\",fg=\"Blue\")\n",
    "data.config(font=(15))\n",
    "data.place(x=150,y=5)\n",
    "\n",
    "#EXPLANATION OF THE GAME\n",
    "exp1=Label(window1,text=\"The computer will choose a random number between 1-10. And you are asked to choose a number too!\",bg=\"light green\",fg=\"Darkblue\")\n",
    "exp1.place(x=5,y=30)\n",
    "exp2=Label(window1,text=\"If the number guessed by you and the computer are same you WIN!\",bg=\"light green\",fg=\"Darkblue\")\n",
    "exp2.place(x=100,y=50)\n",
    "exp1=Label(window1,text=\"Otherwise you LOSE!\",bg=\"light green\",fg=\"Darkblue\")\n",
    "exp1.place(x=200,y=70)\n",
    "\n",
    "#ENTER GUESSING NUMBER\n",
    "no=IntVar()\n",
    "inp1=Label(window1,text=\"Enter the number : \",bg=\"light green\",fg=\"Maroon\")\n",
    "inp1.place(x=140,y=100)\n",
    "inp2=Entry(window1,textvariable=no,bg=\"yellow\")\n",
    "inp2.place(x=250,y=100)\n",
    "\n",
    "#OUTPUT BUTTON\n",
    "def Guess():\n",
    "    num=int(inp2.get())\n",
    "    n=random.randint(1,10)\n",
    "    if(num==n):\n",
    "        window2=Tk()\n",
    "        window2.geometry(\"100x100\")\n",
    "        window2.configure(bg=\"Yellow\")\n",
    "        msg=Label(window2,text=\"YOU WIN!\",fg=\"Red\")\n",
    "        msg.place(x=25,y=25)\n",
    "        window2.mainloop()\n",
    "    else:\n",
    "        msg=Label(window1,text=\"You lose! Better Luck Next Time!\",bg=\"light green\",fg=\"Red\")\n",
    "        msg.place(x=150,y=200)\n",
    "        msg.config(font=(10))\n",
    "        msg1=Label(window1,text=\"The number selected was: \"+str(n),bg=\"light green\",fg=\"Red\")\n",
    "        msg1.place(x=150,y=220)\n",
    "        msg1.config(font=(10))\n",
    "btn=Button(window1,text=\"Click when confident!\",command=Guess,bg=\"red\")\n",
    "btn.place(x=212,y=130)\n",
    "window1.mainloop()"
   ]
  },
  {
   "cell_type": "code",
   "execution_count": null,
   "metadata": {},
   "outputs": [],
   "source": []
  },
  {
   "cell_type": "code",
   "execution_count": null,
   "metadata": {},
   "outputs": [],
   "source": []
  }
 ],
 "metadata": {
  "kernelspec": {
   "display_name": "Python 3",
   "language": "python",
   "name": "python3"
  },
  "language_info": {
   "codemirror_mode": {
    "name": "ipython",
    "version": 3
   },
   "file_extension": ".py",
   "mimetype": "text/x-python",
   "name": "python",
   "nbconvert_exporter": "python",
   "pygments_lexer": "ipython3",
   "version": "3.7.4"
  }
 },
 "nbformat": 4,
 "nbformat_minor": 2
}
